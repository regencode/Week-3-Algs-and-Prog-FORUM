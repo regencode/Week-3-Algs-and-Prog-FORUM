{
 "cells": [
  {
   "cell_type": "code",
   "execution_count": 2,
   "metadata": {},
   "outputs": [
    {
     "name": "stdout",
     "output_type": "stream",
     "text": [
      "The area of the circle is 78.53981633974483\n"
     ]
    }
   ],
   "source": [
    "import math\n",
    "\n",
    "#input\n",
    "\n",
    "rad = float(input(\"Input the radius of the circle here: \"))\n",
    "\n",
    "#Eval``\n",
    "area = str(math.pi * math.pow(rad,2)) \n",
    "\n",
    "#print\n",
    "print(\"The area of the circle is \" + area)\n",
    "\n"
   ]
  },
  {
   "cell_type": "code",
   "execution_count": 4,
   "metadata": {},
   "outputs": [
    {
     "name": "stdout",
     "output_type": "stream",
     "text": [
      "gozalie thom\n"
     ]
    }
   ],
   "source": [
    "#input\n",
    "\n",
    "name = [input(\"Enter your first name: \"), input(\"Enter your last name: \")]\n",
    "\n",
    "#print\n",
    "\n",
    "print(name[1] , name[0])"
   ]
  },
  {
   "cell_type": "code",
   "execution_count": 5,
   "metadata": {},
   "outputs": [
    {
     "name": "stdout",
     "output_type": "stream",
     "text": [
      "Red Black\n"
     ]
    }
   ],
   "source": [
    "#list\n",
    "\n",
    "color_list = [\"Red\", \"Green\", \"White\", \"Black\"]\n",
    "\n",
    "print(color_list[0], color_list[-1])"
   ]
  },
  {
   "cell_type": "code",
   "execution_count": 6,
   "metadata": {},
   "outputs": [
    {
     "name": "stdout",
     "output_type": "stream",
     "text": [
      "615\n"
     ]
    }
   ],
   "source": [
    "#input\n",
    "\n",
    "from re import X\n",
    "from tkinter import N\n",
    "\n",
    "\n",
    "n = str(int(input(\"Enter an integer: \")))\n",
    "\n",
    "#eval\n",
    "\n",
    "input_calc = int(n) + int(n+n) + int(n+n+n)\n",
    "\n",
    "print(input_calc)"
   ]
  },
  {
   "cell_type": "code",
   "execution_count": 7,
   "metadata": {},
   "outputs": [
    {
     "name": "stdout",
     "output_type": "stream",
     "text": [
      "904.7786842338603\n"
     ]
    }
   ],
   "source": [
    "from cmath import pi\n",
    "import math\n",
    "\n",
    "radius = 6\n",
    "\n",
    "volume = 4/3 * math.pi * math.pow(radius,3)\n",
    "\n",
    "print(volume)\n"
   ]
  },
  {
   "cell_type": "code",
   "execution_count": 10,
   "metadata": {},
   "outputs": [
    {
     "name": "stdout",
     "output_type": "stream",
     "text": [
      "18\n"
     ]
    }
   ],
   "source": [
    "#input\n",
    "\n",
    "num = int(input(\"Enter a number: \"))\n",
    "\n",
    "#Eval\n",
    "\n",
    "if num > 17:\n",
    "    num = 2*(num-17)\n",
    "else:\n",
    "    num = 17 - num\n",
    "\n",
    "print(num)"
   ]
  },
  {
   "cell_type": "code",
   "execution_count": 11,
   "metadata": {},
   "outputs": [
    {
     "name": "stdout",
     "output_type": "stream",
     "text": [
      "30\n"
     ]
    }
   ],
   "source": [
    "num_list = [0,0,0]\n",
    "\n",
    "num_list[0], num_list[1], num_list[2] = input(\"Enter 3 numbers to be added together: \").split()\n",
    "\n",
    "num_list[0] = int(num_list[0])\n",
    "num_list[1] = int(num_list[1])\n",
    "num_list[2] = int(num_list[2])\n",
    "\n",
    "\n",
    "if num_list[0] == num_list[1] == num_list[2]:\n",
    "    three = 3 * (num_list[0]+num_list[1] + num_list[2])\n",
    "else:\n",
    "    three = num_list[0]+num_list[1] + num_list[2]\n",
    "\n",
    "print(three)\n"
   ]
  },
  {
   "cell_type": "code",
   "execution_count": 12,
   "metadata": {},
   "outputs": [
    {
     "name": "stdout",
     "output_type": "stream",
     "text": [
      "42 is even.\n"
     ]
    }
   ],
   "source": [
    "\n",
    "#input\n",
    "x = int(input(\"Enter a number: \"))\n",
    "\n",
    "#eval\n",
    "\n",
    "if x%2 == 0 :\n",
    "    print(str(x) + \" is even.\")\n",
    "else:\n",
    "    print(str(x) + \" is odd.\")\n"
   ]
  },
  {
   "cell_type": "code",
   "execution_count": 13,
   "metadata": {},
   "outputs": [
    {
     "name": "stdout",
     "output_type": "stream",
     "text": [
      "This letter is a vowel.\n"
     ]
    }
   ],
   "source": [
    "\n",
    "#input\n",
    "\n",
    "letter = str(input(\"Enter a letter: \"))\n",
    "\n",
    "#defining\n",
    "\n",
    "vowel = [\"a\",\"i\",\"u\",\"e\",\"o\"]\n",
    "\n",
    "#prints\n",
    "\n",
    "if letter == vowel[0] or letter == vowel[1] or letter == vowel[2] or letter == vowel[3] or letter == vowel[4]:\n",
    "    print(\"This letter is a vowel.\")\n",
    "else:\n",
    "    print(\"This letter is NOT a vowel.\")"
   ]
  },
  {
   "cell_type": "code",
   "execution_count": 14,
   "metadata": {},
   "outputs": [
    {
     "name": "stdout",
     "output_type": "stream",
     "text": [
      "Range specified: 5 to 15\n",
      "This number is OUTSIDE the range\n"
     ]
    }
   ],
   "source": [
    "#input\n",
    "\n",
    "min, max = input(\"Select a range, min and max separated using space: \").split()\n",
    "\n",
    "print(\"Range specified: \" + min +\" to \" + max )\n",
    "min = int(min)\n",
    "max = int(max)\n",
    "x = int(input(\"Enter a number: \"))\n",
    "\n",
    "#Checker\n",
    "\n",
    "if x>=min and x<=max : \n",
    "      print(\"This number is INSIDE the range\")\n",
    "else:\n",
    "    print(\"This number is OUTSIDE the range\")"
   ]
  },
  {
   "cell_type": "code",
   "execution_count": 9,
   "metadata": {},
   "outputs": [
    {
     "data": {
      "text/plain": [
       "<function matplotlib.pyplot.show(close=None, block=None)>"
      ]
     },
     "execution_count": 9,
     "metadata": {},
     "output_type": "execute_result"
    },
    {
     "data": {
      "image/png": "[encoded data removed]",
      "text/plain": [
       "<Figure size 640x480 with 1 Axes>"
      ]
     },
     "metadata": {},
     "output_type": "display_data"
    }
   ],
   "source": [
    "#Histogram\n",
    "import matplotlib.pyplot as plt\n",
    "import numpy as np\n",
    "\n",
    "x = [2,5,10,52,34,102,54,5,65,72,20,19,87,24]\n",
    "\n",
    "plt.hist(x)\n",
    "plt.show\n"
   ]
  },
  {
   "cell_type": "code",
   "execution_count": 38,
   "metadata": {},
   "outputs": [],
   "source": [
    "numbers = [ \n",
    " 386, 462, 47, 418, 907, 344, 236, 375, 823, 566, 597, 978, 328, 615, 953, 345, \n",
    " 399, 162, 758, 219, 918, 237, 412, 566, 826, 248, 866, 950, 626, 949, 687, 217, \n",
    " 815, 67, 104, 58, 512, 24, 892, 894, 767, 553, 81, 379, 843, 831, 445, 742, 717, \n",
    " 958,743, 527 \n",
    "]\n",
    "\n",
    "prints = []\n",
    "\n",
    "for x in numbers:\n",
    "    if x%2 == 0:\n",
    "        prints.append(x)\n",
    "\n",
    "print(prints)"
   ]
  },
  {
   "cell_type": "code",
   "execution_count": 16,
   "metadata": {},
   "outputs": [
    {
     "name": "stdout",
     "output_type": "stream",
     "text": [
      "The area of triangle is 17.5\n"
     ]
    }
   ],
   "source": [
    "#inputs\n",
    "b = float(input(\"Base length: \"))\n",
    "h = float(input(\"Height length: \"))\n",
    "\n",
    "#eval\n",
    "\n",
    "area = str((b*h)/2)\n",
    "\n",
    "print(\"The area of triangle is \" + area)"
   ]
  },
  {
   "cell_type": "code",
   "execution_count": 17,
   "metadata": {},
   "outputs": [
    {
     "name": "stdout",
     "output_type": "stream",
     "text": [
      "168\n"
     ]
    }
   ],
   "source": [
    "x, y = input(\"Select two numbers, sep with space: \").split()\n",
    "\n",
    "x=int(x)\n",
    "y=int(y)\n",
    "\n",
    "lcm = 1\n",
    "\n",
    "while lcm%x != 0 or lcm%y != 0 : \n",
    "    lcm = lcm + 1\n",
    "\n",
    "print(lcm)\n"
   ]
  },
  {
   "cell_type": "code",
   "execution_count": 18,
   "metadata": {},
   "outputs": [
    {
     "name": "stdout",
     "output_type": "stream",
     "text": [
      "The sum is 0\n"
     ]
    }
   ],
   "source": [
    "x, y, z = input(\"Enter three numbers to sum up: \").split()\n",
    "\n",
    "x=int(x)\n",
    "y=int(y)\n",
    "z=int(z)\n",
    "sum = 0\n",
    "\n",
    "#eval\n",
    "\n",
    "if x==y or y==z or x==z:\n",
    "    print(\"The sum is 0\")\n",
    "else:\n",
    "    sum = x + y + z\n",
    "    print(\"The sum is \" +str(sum))"
   ]
  },
  {
   "cell_type": "code",
   "execution_count": 19,
   "metadata": {},
   "outputs": [
    {
     "name": "stdout",
     "output_type": "stream",
     "text": [
      "(3 + 5) ^ 2) = 64.0\n"
     ]
    }
   ],
   "source": [
    "import math\n",
    "\n",
    "x = int(input(\"x = \"))\n",
    "y = int(input(\"y = \"))\n",
    "\n",
    "#eval\n",
    "\n",
    "calc = math.pow(x + y,2)\n",
    "\n",
    "print(\"(\" + str(x) + \" + \" + str(y) + \") ^ 2) = \" + str(calc))"
   ]
  },
  {
   "cell_type": "code",
   "execution_count": 20,
   "metadata": {},
   "outputs": [
    {
     "name": "stdout",
     "output_type": "stream",
     "text": [
      "12722.79\n"
     ]
    }
   ],
   "source": [
    "amt = float(input(\"amt = \"))\n",
    "interest = float(input(\"interest = \"))\n",
    "years = float(input(\"years = \"))\n",
    "\n",
    "#eval\n",
    "\n",
    "count = 1\n",
    "\n",
    "intdec = 3.5/100\n",
    "intamt = amt * intdec\n",
    "\n",
    "\n",
    "while years >= count:\n",
    "    amt = amt + (intamt)\n",
    "    intamt = amt * intdec\n",
    "    count += 1\n",
    "\n",
    "amt = \"{:.2f}\".format(amt)\n",
    "\n",
    "\n",
    "print(amt)"
   ]
  },
  {
   "cell_type": "code",
   "execution_count": 27,
   "metadata": {},
   "outputs": [
    {
     "name": "stdout",
     "output_type": "stream",
     "text": [
      "5.0\n"
     ]
    }
   ],
   "source": [
    "#point distance calc\n",
    "\n",
    "import math\n",
    "\n",
    "\n",
    "x1, y1 = input(\"Enter coordinates of first point: \").split()\n",
    "x2, y2 = input(\"Enter coordinates of first point: \").split()\n",
    "\n",
    "x1=int(x1)\n",
    "x2=int(x2)\n",
    "y1=int(y1)\n",
    "y2=int(y2)\n",
    "\n",
    "#Eval\n",
    "xdist = x2 - x1\n",
    "\n",
    "ydist = y2 - y1\n",
    "\n",
    "dist = math.pow(math.pow(xdist,2)+math.pow(ydist,2), 0.5)\n",
    "\n",
    "\n",
    "print(dist)\n",
    "\n"
   ]
  },
  {
   "cell_type": "code",
   "execution_count": 29,
   "metadata": {},
   "outputs": [
    {
     "name": "stdout",
     "output_type": "stream",
     "text": [
      "19900\n"
     ]
    }
   ],
   "source": [
    "#integer sum\n",
    "\n",
    "limit = int(input(\"Enter the amount of positive integers to sum: \"))\n",
    "\n",
    "total = 0\n",
    "\n",
    "for i in range(1,limit):\n",
    "    total += i\n",
    "\n",
    "print(total)\n",
    "\n"
   ]
  },
  {
   "cell_type": "code",
   "execution_count": 34,
   "metadata": {},
   "outputs": [
    {
     "name": "stdout",
     "output_type": "stream",
     "text": [
      "185.42cm\n"
     ]
    }
   ],
   "source": [
    "#feet and inch to cm\n",
    "\n",
    "feet = int(input(\"Enter length in feet: \"))\n",
    "inch = int(input(\"Enter length in inches: \"))\n",
    "\n",
    "#calc\n",
    "\n",
    "cm = (feet*30.48) + (inch*2.54)\n",
    "\n",
    "print(str(cm) + \"cm\")"
   ]
  },
  {
   "cell_type": "code",
   "execution_count": 30,
   "metadata": {},
   "outputs": [
    {
     "name": "stdout",
     "output_type": "stream",
     "text": [
      "5.0\n"
     ]
    }
   ],
   "source": [
    "#hypotenuse\n",
    "\n",
    "xdist = int(input(\"Enter the base length: \"))\n",
    "ydist = int(input(\"Enter the height: \"))\n",
    "\n",
    "\n",
    "\n",
    "\n",
    "dist = math.pow(math.pow(xdist,2)+math.pow(ydist,2), 0.5)\n",
    "\n",
    "\n",
    "print(dist)\n"
   ]
  },
  {
   "cell_type": "code",
   "execution_count": 35,
   "metadata": {},
   "outputs": [
    {
     "name": "stdout",
     "output_type": "stream",
     "text": [
      "26.27728507868255\n"
     ]
    }
   ],
   "source": [
    "#Body mass index\n",
    "import math\n",
    "\n",
    "kg = float(input(\"Enter body mass in kg: \"))\n",
    "m = float(input(\"Enter height in meters: \"))\n",
    "\n",
    "#calc\n",
    "\n",
    "bmi = kg/(math.pow(m,2))\n",
    "\n",
    "print(bmi)"
   ]
  },
  {
   "cell_type": "code",
   "execution_count": 32,
   "metadata": {},
   "outputs": [
    {
     "name": "stdout",
     "output_type": "stream",
     "text": [
      "[1.0, 1.5]\n"
     ]
    }
   ],
   "source": [
    "#midpoint\n",
    "\n",
    "x1, y1 = input(\"Enter coordinates of first point: \").split()\n",
    "x2, y2 = input(\"Enter coordinates of first point: \").split()\n",
    "\n",
    "x1=float(x1)\n",
    "x2=float(x2)\n",
    "y1=float(y1)\n",
    "y2=float(y2)\n",
    "\n",
    "#calc\n",
    "\n",
    "midpoint=[]\n",
    "\n",
    "xmid = (x1+x2)/2\n",
    "ymid = (y1+y2)/2\n",
    "\n",
    "midpoint.append(xmid)\n",
    "midpoint.append(ymid)\n",
    "\n",
    "print(midpoint)"
   ]
  },
  {
   "cell_type": "code",
   "execution_count": 33,
   "metadata": {},
   "outputs": [
    {
     "name": "stdout",
     "output_type": "stream",
     "text": [
      "[2002, 2009, 2016, 2023, 2037, 2044, 2051, 2058, 2072, 2079, 2086, 2093, 2107, 2114, 2121, 2128, 2142, 2149, 2156, 2163, 2177, 2184, 2191, 2198, 2212, 2219, 2226, 2233, 2247, 2254, 2261, 2268, 2282, 2289, 2296, 2303, 2317, 2324, 2331, 2338, 2352, 2359, 2366, 2373, 2387, 2394, 2401, 2408, 2422, 2429, 2436, 2443, 2457, 2464, 2471, 2478, 2492, 2499, 2506, 2513, 2527, 2534, 2541, 2548, 2562, 2569, 2576, 2583, 2597, 2604, 2611, 2618, 2632, 2639, 2646, 2653, 2667, 2674, 2681, 2688, 2702, 2709, 2716, 2723, 2737, 2744, 2751, 2758, 2772, 2779, 2786, 2793, 2807, 2814, 2821, 2828, 2842, 2849, 2856, 2863, 2877, 2884, 2891, 2898, 2912, 2919, 2926, 2933, 2947, 2954, 2961, 2968, 2982, 2989, 2996, 3003, 3017, 3024, 3031, 3038, 3052, 3059, 3066, 3073, 3087, 3094, 3101, 3108, 3122, 3129, 3136, 3143, 3157, 3164, 3171, 3178, 3192, 3199]\n"
     ]
    }
   ],
   "source": [
    "#num search\n",
    "\n",
    "numprint =[]\n",
    "\n",
    "for i in range(2000,3200):\n",
    "    if i%7 == 0 and i%5 != 0 :\n",
    "        numprint.append(i)\n",
    "\n",
    "print(numprint)\n",
    "    "
   ]
  }
 ],
 "metadata": {
  "kernelspec": {
   "display_name": "Python 3.10.7 64-bit",
   "language": "python",
   "name": "python3"
  },
  "language_info": {
   "codemirror_mode": {
    "name": "ipython",
    "version": 3
   },
   "file_extension": ".py",
   "mimetype": "text/x-python",
   "name": "python",
   "nbconvert_exporter": "python",
   "pygments_lexer": "ipython3",
   "version": "3.10.7"
  },
  "orig_nbformat": 4,
  "vscode": {
   "interpreter": {
    "hash": "9b99263972b44c015480735cf63bda92f2498bdf9fc1c40be9c7a3b1231b16a3"
   }
  }
 },
 "nbformat": 4,
 "nbformat_minor": 2
}
